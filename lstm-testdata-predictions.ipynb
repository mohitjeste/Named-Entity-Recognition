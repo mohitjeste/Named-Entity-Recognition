{
 "cells": [
  {
   "cell_type": "code",
   "execution_count": 1,
   "metadata": {},
   "outputs": [],
   "source": [
    "import os\n",
    "import numpy as np\n",
    "import re\n",
    "from tensorflow.keras.preprocessing.sequence import pad_sequences\n",
    "import tensorflow as tf\n",
    "from tensorflow.keras import layers\n",
    "import pickle\n",
    "import matplotlib.pyplot as plt"
   ]
  },
  {
   "cell_type": "code",
   "execution_count": 2,
   "metadata": {},
   "outputs": [],
   "source": [
    "DATA_DIR = \"../data/\""
   ]
  },
  {
   "cell_type": "code",
   "execution_count": 3,
   "metadata": {},
   "outputs": [],
   "source": [
    "testFile = os.path.join(DATA_DIR,\"test.txt\")"
   ]
  },
  {
   "cell_type": "code",
   "execution_count": 4,
   "metadata": {},
   "outputs": [],
   "source": [
    "\n",
    "#I noticed an empty line in the text file denotes end of a sentence. So I am reading the file and \n",
    "#returning all sentences present in the file.\n",
    "\n",
    "def read_file(filename):\n",
    "    #open the file\n",
    "    fpt = open(filename,\"r\",encoding=\"utf8\")\n",
    "    \n",
    "\n",
    "    #store the current sentence in this list\n",
    "    currentSentence=[]\n",
    "    #list to store all sentences in the file\n",
    "    allSentences=[]\n",
    "    for line in fpt:\n",
    "        \n",
    "        lineSplit = line.split()\n",
    "        \n",
    "        #if line is empty it indicates end of the sentence. Append the current sentence to allSentences and reinitialize\n",
    "        #currentSentence to an empty list\n",
    "        if len(lineSplit)==0:\n",
    "            allSentences.append(currentSentence)\n",
    "            currentSentence=[]\n",
    "        #else add the word to the corresponding BIO label in the dictionary and add the word to the current sentence\n",
    "        else:\n",
    "            word = lineSplit[0]\n",
    "            currentSentence.append(word)\n",
    "    \n",
    "\n",
    "    fpt.close()\n",
    "    \n",
    "    return allSentences"
   ]
  },
  {
   "cell_type": "code",
   "execution_count": 5,
   "metadata": {},
   "outputs": [],
   "source": [
    "test_sentences = read_file(testFile)"
   ]
  },
  {
   "cell_type": "code",
   "execution_count": 6,
   "metadata": {
    "scrolled": true
   },
   "outputs": [
    {
     "name": "stdout",
     "output_type": "stream",
     "text": [
      "['&', 'gt', ';', '*', 'The', 'soldier', 'was', 'killed', 'when', 'another', 'avalanche', 'hit', 'an', 'army', 'barracks', 'in', 'the', 'northern', 'area', 'of', 'Sonmarg', ',', 'said', 'a', 'military', 'spokesman', '.']\n"
     ]
    }
   ],
   "source": [
    "print(test_sentences[0])"
   ]
  },
  {
   "cell_type": "code",
   "execution_count": 7,
   "metadata": {},
   "outputs": [],
   "source": [
    "#preprocess the sentences as we had done for training. However in this case any words like urls, twitter @s or punctuations\n",
    "#in the sentence are marked as <UNK> or unknown because at test time we need a prediction for every word. \n",
    "#These will be predicted as 'O'. Also make all words lower case\n",
    "def pre_process(sentence):\n",
    "    result = []\n",
    "    for word in sentence:\n",
    "        word = re.sub(r'^https?:\\/\\/.*[\\r\\n]*', '', word)\n",
    "        word = re.sub('@[^\\s]+','',word)\n",
    "        if word.isalpha() and len(word)>0:\n",
    "            result.append(word.lower())\n",
    "        else:\n",
    "            result.append(\"<UNK>\")\n",
    "            \n",
    "    return result"
   ]
  },
  {
   "cell_type": "code",
   "execution_count": 8,
   "metadata": {},
   "outputs": [],
   "source": [
    "\n",
    "for i,sentence in enumerate(test_sentences):\n",
    "\n",
    "    processedSen = pre_process(sentence)\n",
    "    test_sentences[i]=processedSen"
   ]
  },
  {
   "cell_type": "code",
   "execution_count": 9,
   "metadata": {},
   "outputs": [
    {
     "name": "stdout",
     "output_type": "stream",
     "text": [
      "['<UNK>', 'gt', '<UNK>', '<UNK>', 'the', 'soldier', 'was', 'killed', 'when', 'another', 'avalanche', 'hit', 'an', 'army', 'barracks', 'in', 'the', 'northern', 'area', 'of', 'sonmarg', '<UNK>', 'said', 'a', 'military', 'spokesman', '<UNK>']\n"
     ]
    }
   ],
   "source": [
    "print(test_sentences[0])"
   ]
  },
  {
   "cell_type": "code",
   "execution_count": 10,
   "metadata": {},
   "outputs": [
    {
     "data": {
      "image/png": "[encoded data removed]",
      "text/plain": [
       "<Figure size 432x288 with 1 Axes>"
      ]
     },
     "metadata": {
      "needs_background": "light"
     },
     "output_type": "display_data"
    }
   ],
   "source": [
    "\n",
    "# Plot sentence by length\n",
    "plt.hist([len(s) for s in test_sentences], bins=50)\n",
    "plt.title('Number of words per sentence')\n",
    "plt.xlabel('Len (sentence)')\n",
    "plt.ylabel('# samples')\n",
    "plt.show()\n",
    "\n"
   ]
  },
  {
   "cell_type": "code",
   "execution_count": 11,
   "metadata": {},
   "outputs": [],
   "source": [
    "#load in the word2Idx,idx2Word,label2Idx and idx2Label dictionaries we had created on training data\n",
    "#use it to convert the test sentences to list of indices as expected by a Bi-LSTM model\n",
    "with open('../data/word2Idx.pickle', 'rb') as handle:\n",
    "    word2Idx = pickle.load(handle)\n",
    "    \n",
    "with open('../data/idx2Word.pickle', 'rb') as handle:\n",
    "    idx2Word = pickle.load(handle)\n",
    "\n",
    "with open('../data/label2Idx.pickle', 'rb') as handle:\n",
    "    label2Idx = pickle.load(handle)\n",
    "    \n",
    "with open('../data/idx2Label.pickle', 'rb') as handle:\n",
    "    idx2Label = pickle.load(handle)"
   ]
  },
  {
   "cell_type": "code",
   "execution_count": 12,
   "metadata": {},
   "outputs": [],
   "source": [
    "#function to map the sentence to their correspond ids from the dictionary created above\n",
    "def map_to_idx(sentence):\n",
    "    sentenceToIdx=[]\n",
    "    \n",
    "    for i,word in enumerate(sentence):\n",
    "        if word in word2Idx:\n",
    "            wordIdx = word2Idx[word]\n",
    "        elif word.lower() in word2Idx:\n",
    "            wordIdx = word2Idx[word.lower()]\n",
    "        else:\n",
    "            wordIdx = word2Idx['UNKNOWN_TOKEN']\n",
    "\n",
    "        sentenceToIdx.append(wordIdx)\n",
    "        \n",
    "    return sentenceToIdx"
   ]
  },
  {
   "cell_type": "code",
   "execution_count": 24,
   "metadata": {},
   "outputs": [],
   "source": [
    "#create the dataset by mapping words and tags to the ids\n",
    "X_test = []\n",
    "samples=len(test_sentences)\n",
    "for i in range(samples):\n",
    "    \n",
    "    sentence=test_sentences[i]\n",
    "    sentenceToIdx = map_to_idx(sentence)\n",
    "    X_test.append(sentenceToIdx)"
   ]
  },
  {
   "cell_type": "code",
   "execution_count": 25,
   "metadata": {},
   "outputs": [],
   "source": [
    "#based on the above graph I decided setting the max sentence length to 105 is a good idea\n",
    "#pad all sentences to the same length of 105\n",
    "\n",
    "def padding(sentences, max_len, padding='post'):\n",
    "    padded_sentences = pad_sequences(sentences, max_len,padding='post')\n",
    "    return padded_sentences\n",
    "\n",
    "\n",
    "X_test = padding(X_test, 105, padding='post')"
   ]
  },
  {
   "cell_type": "code",
   "execution_count": 26,
   "metadata": {},
   "outputs": [
    {
     "name": "stdout",
     "output_type": "stream",
     "text": [
      "['rt', '<UNK>', 'kiiingpin', '<UNK>', '<UNK>', 'i', 'want', 'to', 'be', 'someone', '<UNK>', 's', 'favorite', 'person', 'to', 'talk', 'to']\n",
      "['rt', 'UNKNOWN_TOKEN', 'UNKNOWN_TOKEN', 'UNKNOWN_TOKEN', 'UNKNOWN_TOKEN', 'i', 'want', 'to', 'be', 'someone', 'UNKNOWN_TOKEN', 's', 'favorite', 'person', 'to', 'talk', 'to', 'PADDING_TOKEN', 'PADDING_TOKEN', 'PADDING_TOKEN', 'PADDING_TOKEN', 'PADDING_TOKEN', 'PADDING_TOKEN', 'PADDING_TOKEN', 'PADDING_TOKEN', 'PADDING_TOKEN', 'PADDING_TOKEN', 'PADDING_TOKEN', 'PADDING_TOKEN', 'PADDING_TOKEN', 'PADDING_TOKEN', 'PADDING_TOKEN', 'PADDING_TOKEN', 'PADDING_TOKEN', 'PADDING_TOKEN', 'PADDING_TOKEN', 'PADDING_TOKEN', 'PADDING_TOKEN', 'PADDING_TOKEN', 'PADDING_TOKEN', 'PADDING_TOKEN', 'PADDING_TOKEN', 'PADDING_TOKEN', 'PADDING_TOKEN', 'PADDING_TOKEN', 'PADDING_TOKEN', 'PADDING_TOKEN', 'PADDING_TOKEN', 'PADDING_TOKEN', 'PADDING_TOKEN', 'PADDING_TOKEN', 'PADDING_TOKEN', 'PADDING_TOKEN', 'PADDING_TOKEN', 'PADDING_TOKEN', 'PADDING_TOKEN', 'PADDING_TOKEN', 'PADDING_TOKEN', 'PADDING_TOKEN', 'PADDING_TOKEN', 'PADDING_TOKEN', 'PADDING_TOKEN', 'PADDING_TOKEN', 'PADDING_TOKEN', 'PADDING_TOKEN', 'PADDING_TOKEN', 'PADDING_TOKEN', 'PADDING_TOKEN', 'PADDING_TOKEN', 'PADDING_TOKEN', 'PADDING_TOKEN', 'PADDING_TOKEN', 'PADDING_TOKEN', 'PADDING_TOKEN', 'PADDING_TOKEN', 'PADDING_TOKEN', 'PADDING_TOKEN', 'PADDING_TOKEN', 'PADDING_TOKEN', 'PADDING_TOKEN', 'PADDING_TOKEN', 'PADDING_TOKEN', 'PADDING_TOKEN', 'PADDING_TOKEN', 'PADDING_TOKEN', 'PADDING_TOKEN', 'PADDING_TOKEN', 'PADDING_TOKEN', 'PADDING_TOKEN', 'PADDING_TOKEN', 'PADDING_TOKEN', 'PADDING_TOKEN', 'PADDING_TOKEN', 'PADDING_TOKEN', 'PADDING_TOKEN', 'PADDING_TOKEN', 'PADDING_TOKEN', 'PADDING_TOKEN', 'PADDING_TOKEN', 'PADDING_TOKEN', 'PADDING_TOKEN', 'PADDING_TOKEN', 'PADDING_TOKEN', 'PADDING_TOKEN', 'PADDING_TOKEN']\n"
     ]
    }
   ],
   "source": [
    "#sanity check that we have the done the mapping right and created the right dataset\n",
    "i=1200\n",
    "#print(X[i])\n",
    "#print(y[i])\n",
    "print(test_sentences[i])\n",
    "\n",
    "print([idx2Word[w] for w in X_test[i]])"
   ]
  },
  {
   "cell_type": "code",
   "execution_count": 27,
   "metadata": {},
   "outputs": [
    {
     "name": "stdout",
     "output_type": "stream",
     "text": [
      "(1287, 105)\n"
     ]
    }
   ],
   "source": [
    "#number of sentences, length of each sentence\n",
    "print(X_test.shape)"
   ]
  },
  {
   "cell_type": "code",
   "execution_count": 28,
   "metadata": {},
   "outputs": [],
   "source": [
    "EMBEDDING_DIM=100\n",
    "BATCH = 32\n",
    "#set from the graph above\n",
    "max_seq_len = 105\n",
    "num_labels = len(label2Idx)"
   ]
  },
  {
   "cell_type": "code",
   "execution_count": 18,
   "metadata": {},
   "outputs": [],
   "source": [
    "# Loading glove embeddings\n",
    "embeddings_index = {}\n",
    "f = open(\"../embeddings/glove.6B.100d.txt\", encoding=\"utf-8\")\n",
    "for line in f:\n",
    "    values = line.strip().split(' ')\n",
    "    word = values[0] # the first entry is the word\n",
    "    coefs = np.asarray(values[1:], dtype='float32') #50d vectors   \n",
    "    #representing the word\n",
    "    embeddings_index[word] = coefs\n",
    "f.close()\n",
    "\n",
    "embedding_matrix = np.zeros((len(word2Idx), EMBEDDING_DIM))\n",
    "\n",
    "# Word embeddings for the tokens\n",
    "for word,i in word2Idx.items():\n",
    "    embedding_vector = embeddings_index.get(word)\n",
    "    if embedding_vector is not None:\n",
    "        embedding_matrix[i] = embedding_vector"
   ]
  },
  {
   "cell_type": "code",
   "execution_count": 29,
   "metadata": {},
   "outputs": [],
   "source": [
    "test_dataset = tf.data.Dataset.from_tensor_slices(X_test)"
   ]
  },
  {
   "cell_type": "code",
   "execution_count": 30,
   "metadata": {},
   "outputs": [],
   "source": [
    "test_dataset = test_dataset.batch(BATCH)"
   ]
  },
  {
   "cell_type": "code",
   "execution_count": 31,
   "metadata": {},
   "outputs": [],
   "source": [
    "#define the model which has the following architecture\n",
    "#Embedding->BiLSTM->Dense\n",
    "class NERmodel(tf.keras.Model):\n",
    "    def __init__(self, max_seq_len, embed_input_dim, embed_output_dim, num_labels, weights):\n",
    "\n",
    "        super(NERmodel, self).__init__() \n",
    "        self.embedding = layers.Embedding(input_dim=embed_input_dim,\n",
    "                                          output_dim=embed_output_dim, weights=weights,\n",
    "                                          input_length=max_seq_len, trainable=True, mask_zero=True)        \n",
    "\n",
    "        self.bilstm = layers.Bidirectional(layers.LSTM(512,return_sequences=True))\n",
    "    \n",
    "        self.dense = layers.Dense(num_labels)\n",
    "\n",
    "    def call(self, inputs):\n",
    "\n",
    "        x = self.embedding(inputs) # batchsize, max_seq_len,embedding_output_dim\n",
    "        x = self.bilstm(x) #batchsize, max_seq_len, hidden_dim_bilstm\n",
    "        logits = self.dense(x) #batchsize, max_seq_len, num_labels\n",
    "        return logits"
   ]
  },
  {
   "cell_type": "code",
   "execution_count": 32,
   "metadata": {},
   "outputs": [],
   "source": [
    "\n",
    "\n",
    "#I need to convert the indices my model will predict back to its actual class\n",
    "#this is what the function below does\n",
    "#for eg 0->'O'\n",
    "#       1->'B-location'\n",
    "#this is done for the predictions\n",
    "def idx_to_label(predictions, idx2Label):\n",
    "    \n",
    "    #store all the predictions in this list\n",
    "    label_pred = []\n",
    "    \n",
    "    for i,pred_batch in enumerate(predictions):\n",
    "        \n",
    "        for sentence in pred_batch:\n",
    "            #store the predictions for a sentence in this\n",
    "            sentence_pred = []\n",
    "            for i in sentence:\n",
    "                sentence_pred.append(idx2Label[i])\n",
    "            #at the end of the sentence,append the predictions\n",
    "            label_pred.append(sentence_pred)\n",
    "                    \n",
    "    return label_pred\n",
    "\n",
    "#load the model weights to test\n",
    "test_model =  NERmodel(max_seq_len=max_seq_len, embed_input_dim=len(word2Idx), embed_output_dim=EMBEDDING_DIM, weights=[embedding_matrix], num_labels=num_labels)\n",
    "test_model.load_weights(f\"../models/best-lstm-v8\")\n",
    "\n",
    "#list to store the prediction labels\n",
    "pred_labels = []\n",
    "\n",
    "for sentences_batch in test_dataset:\n",
    "    \n",
    "    logits = test_model(sentences_batch)\n",
    "    temp1 = tf.nn.softmax(logits)\n",
    "    preds = tf.argmax(temp1, axis=2)\n",
    "    #true_labels.append(np.asarray(labels_batch))\n",
    "    pred_labels.append(np.asarray(preds))\n",
    "\n",
    "label_pred = idx_to_label(pred_labels, idx2Label)\n"
   ]
  },
  {
   "cell_type": "code",
   "execution_count": 35,
   "metadata": {},
   "outputs": [],
   "source": [
    "#write the predictios to a file such that there is one to one correspondence between a line in the test_predictions.txt and \n",
    "#test.txt file\n",
    "ftest = open(\"../data/test_predictions.txt\",\"a\")\n",
    "for i,s in enumerate(test_sentences):\n",
    "\n",
    "    prediction = label_pred[i][0:len(s)]\n",
    "    for pred in prediction:\n",
    "        ftest.write(\"%s\\n\" % pred)\n",
    "    ftest.write(\"\\n\")\n",
    "    #assert len(prediction)==len(s)\n",
    "    #ftest.write\n",
    "ftest.close()\n",
    "    "
   ]
  },
  {
   "cell_type": "code",
   "execution_count": null,
   "metadata": {},
   "outputs": [],
   "source": []
  }
 ],
 "metadata": {
  "kernelspec": {
   "display_name": "Python 3",
   "language": "python",
   "name": "python3"
  },
  "language_info": {
   "codemirror_mode": {
    "name": "ipython",
    "version": 3
   },
   "file_extension": ".py",
   "mimetype": "text/x-python",
   "name": "python",
   "nbconvert_exporter": "python",
   "pygments_lexer": "ipython3",
   "version": "3.6.10"
  }
 },
 "nbformat": 4,
 "nbformat_minor": 4
}
